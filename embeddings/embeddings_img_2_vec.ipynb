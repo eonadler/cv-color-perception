{
 "cells": [
  {
   "cell_type": "code",
   "execution_count": 2,
   "id": "surrounded-terminal",
   "metadata": {},
   "outputs": [],
   "source": [
    "from img2vec_pytorch import Img2Vec\n",
    "from PIL import Image\n",
    "\n"
   ]
  },
  {
   "cell_type": "code",
   "execution_count": 3,
   "id": "surprising-layout",
   "metadata": {},
   "outputs": [
    {
     "name": "stderr",
     "output_type": "stream",
     "text": [
      "Downloading: \"https://download.pytorch.org/models/resnet18-f37072fd.pth\" to /Users/bhargavvader/.cache/torch/hub/checkpoints/resnet18-f37072fd.pth\n"
     ]
    },
    {
     "data": {
      "application/vnd.jupyter.widget-view+json": {
       "model_id": "15c0b34286ca49ef8f0e91cca4e48989",
       "version_major": 2,
       "version_minor": 0
      },
      "text/plain": [
       "  0%|          | 0.00/44.7M [00:00<?, ?B/s]"
      ]
     },
     "metadata": {},
     "output_type": "display_data"
    },
    {
     "name": "stderr",
     "output_type": "stream",
     "text": [
      "/Users/bhargavvader/open_source/venv/lib/python3.9/site-packages/torchvision/transforms/transforms.py:310: UserWarning: The use of the transforms.Scale transform is deprecated, please use transforms.Resize instead.\n",
      "  warnings.warn(\"The use of the transforms.Scale transform is deprecated, \" +\n"
     ]
    }
   ],
   "source": [
    "# Initialize Img2Vec with GPU\n",
    "img2vec = Img2Vec()"
   ]
  },
  {
   "cell_type": "code",
   "execution_count": 5,
   "id": "trained-tulsa",
   "metadata": {},
   "outputs": [],
   "source": [
    "# Read in an image (rgb format)\n",
    "img_0 = Image.open('traffic lights/traffic_lights.001.jpeg')\n",
    "img_1 = Image.open('traffic lights/traffic_lights.002.jpeg')\n",
    "img_2 = Image.open('traffic lights/traffic_lights.003.jpeg')\n",
    "img_3 = Image.open('traffic lights/traffic_lights.004.jpeg')\n"
   ]
  },
  {
   "cell_type": "code",
   "execution_count": 6,
   "id": "expected-trigger",
   "metadata": {},
   "outputs": [],
   "source": [
    "img = [img_0, img_1, img_2, img_3]"
   ]
  },
  {
   "cell_type": "code",
   "execution_count": 7,
   "id": "responsible-turkey",
   "metadata": {},
   "outputs": [
    {
     "name": "stderr",
     "output_type": "stream",
     "text": [
      "/Users/bhargavvader/open_source/venv/lib/python3.9/site-packages/torch/nn/functional.py:718: UserWarning: Named tensors and all their associated APIs are an experimental feature and subject to change. Please do not use them for anything important until they are released as stable. (Triggered internally at  ../c10/core/TensorImpl.h:1156.)\n",
      "  return torch.max_pool2d(input, kernel_size, stride, padding, dilation, ceil_mode)\n"
     ]
    },
    {
     "name": "stdout",
     "output_type": "stream",
     "text": [
      "(4, 512)\n"
     ]
    }
   ],
   "source": [
    "\n",
    "vectors = img2vec.get_vec(img)"
   ]
  },
  {
   "cell_type": "code",
   "execution_count": 9,
   "id": "coordinated-canberra",
   "metadata": {},
   "outputs": [],
   "source": [
    "import pickle"
   ]
  },
  {
   "cell_type": "code",
   "execution_count": 10,
   "id": "colored-privacy",
   "metadata": {},
   "outputs": [],
   "source": [
    "with open('traffic.pkl', 'wb') as f:\n",
    "    pickle.dump(vectors, f)"
   ]
  },
  {
   "cell_type": "code",
   "execution_count": null,
   "id": "working-taiwan",
   "metadata": {},
   "outputs": [],
   "source": []
  }
 ],
 "metadata": {
  "kernelspec": {
   "display_name": "Python 3",
   "language": "python",
   "name": "python3"
  },
  "language_info": {
   "codemirror_mode": {
    "name": "ipython",
    "version": 3
   },
   "file_extension": ".py",
   "mimetype": "text/x-python",
   "name": "python",
   "nbconvert_exporter": "python",
   "pygments_lexer": "ipython3",
   "version": "3.9.4"
  }
 },
 "nbformat": 4,
 "nbformat_minor": 5
}
