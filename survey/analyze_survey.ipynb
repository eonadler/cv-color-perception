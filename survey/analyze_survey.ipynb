{
 "cells": [
  {
   "cell_type": "markdown",
   "id": "6b57fd1a-adb0-4cdb-8dba-8714124cf69b",
   "metadata": {},
   "source": [
    "### Imports"
   ]
  },
  {
   "cell_type": "code",
   "execution_count": 7,
   "id": "bb91b2ad-912c-4a9e-a472-60a05feb4109",
   "metadata": {},
   "outputs": [],
   "source": [
    "#Standard Library\n",
    "import random\n",
    "import json\n",
    "import math\n",
    "import os\n",
    "import re\n",
    "\n",
    "#3rd Party Libraries\n",
    "import numpy as np\n",
    "import scipy.stats\n",
    "import matplotlib.pyplot as plt\n",
    "import PIL\n",
    "import pandas as pd\n",
    "import scipy.stats\n",
    "\n",
    "#Our library\n",
    "from block_pipeline import *\n",
    "\n",
    "jzazbz_array = np.load('../comp-syn2/notebooks/jzazbz_array.npy')\n",
    "\n",
    "#Warning Supression for Pandas Performance\n",
    "from warnings import simplefilter\n",
    "simplefilter(action=\"ignore\", category=pd.errors.PerformanceWarning)\n",
    "\n",
    "#Formatting\n",
    "%matplotlib inline\n",
    "%config InlineBackend.figure_format='retina'\n",
    "%config InlineBackend.rc = {'figure.facecolor': 'w'}\n",
    "\n",
    "embedding_paths = {'JzAzBz_wavelet': 'block_stimuli_coeffs_jzazbz.txt',\n",
    "                   'Grayscaled_wavelet': 'block_stimuli_coeffs_grey.txt',\n",
    "                  'CNN': 'block_stimuli_resnet.json',\n",
    "                  'Style': 'block_stimuli_style_vectors',\n",
    "                  'Transformer': 'vt_emb_blocks.pickle'}"
   ]
  },
  {
   "cell_type": "markdown",
   "id": "d5956d43-8393-49cc-9f91-18414b22d38b",
   "metadata": {},
   "source": [
    "### Loading Data"
   ]
  },
  {
   "cell_type": "code",
   "execution_count": 2,
   "id": "d7b2bfb2-18a4-4dfa-bf3d-54d792893c0b",
   "metadata": {},
   "outputs": [
    {
     "name": "stdout",
     "output_type": "stream",
     "text": [
      "Shape of Qualtrics Data: (104, 621)\n",
      "Shape of Reference Data: (200, 5)\n"
     ]
    }
   ],
   "source": [
    "# Load Dataframes of the Response Data and the Decoding CSV of Img URLs\n",
    "\n",
    "#Set CSV Names\n",
    "QualtricsCSV = 'Responses100.csv'\n",
    "RandomizedPairingsCSV = 'SampleColorPairs.csv'\n",
    "\n",
    "#Create DataFrames\n",
    "Q_df = pd.read_csv(QualtricsCSV)\n",
    "R_df = pd.read_csv(RandomizedPairingsCSV) #reference dataframe\n",
    "\n",
    "#Print Shape\n",
    "print('Shape of Qualtrics Data:', Q_df.shape)\n",
    "print('Shape of Reference Data:', R_df.shape)"
   ]
  },
  {
   "cell_type": "markdown",
   "id": "d5a28e3a-f1a0-4b7f-9577-221d55269473",
   "metadata": {},
   "source": [
    "### Trimming Data "
   ]
  },
  {
   "cell_type": "code",
   "execution_count": 3,
   "id": "e6e2a595-c5f5-436e-a7d5-de679b4ff501",
   "metadata": {},
   "outputs": [
    {
     "name": "stdout",
     "output_type": "stream",
     "text": [
      "Trimmed Data frame shape:  (102, 200) \n",
      "\n",
      "    1_Q1_0_GROUP 2_Q1_0_GROUP 3_Q1_0_GROUP 4_Q1_0_GROUP 5_Q1_0_GROUP  \\\n",
      "2              2          NaN          NaN          NaN          NaN   \n",
      "3            NaN          NaN          NaN          NaN          NaN   \n",
      "4            NaN          NaN          NaN          NaN          NaN   \n",
      "5              1          NaN            2          NaN          NaN   \n",
      "6            NaN          NaN          NaN          NaN          NaN   \n",
      "..           ...          ...          ...          ...          ...   \n",
      "99           NaN          NaN          NaN          NaN          NaN   \n",
      "100            1          NaN          NaN          NaN          NaN   \n",
      "101            1            2          NaN          NaN          NaN   \n",
      "102          NaN          NaN            1          NaN          NaN   \n",
      "103          NaN          NaN          NaN            1          NaN   \n",
      "\n",
      "    6_Q1_0_GROUP 7_Q1_0_GROUP 8_Q1_0_GROUP 9_Q1_0_GROUP 10_Q1_0_GROUP  ...  \\\n",
      "2            NaN          NaN          NaN          NaN           NaN  ...   \n",
      "3            NaN          NaN          NaN          NaN           NaN  ...   \n",
      "4            NaN          NaN          NaN          NaN           NaN  ...   \n",
      "5              1          NaN          NaN          NaN           NaN  ...   \n",
      "6            NaN          NaN          NaN          NaN           NaN  ...   \n",
      "..           ...          ...          ...          ...           ...  ...   \n",
      "99           NaN          NaN            2          NaN           NaN  ...   \n",
      "100          NaN          NaN          NaN          NaN           NaN  ...   \n",
      "101          NaN          NaN          NaN          NaN           NaN  ...   \n",
      "102          NaN          NaN          NaN          NaN           NaN  ...   \n",
      "103          NaN          NaN          NaN          NaN           NaN  ...   \n",
      "\n",
      "    191_Q1_0_GROUP 192_Q1_0_GROUP 193_Q1_0_GROUP 194_Q1_0_GROUP  \\\n",
      "2              NaN            NaN            NaN              1   \n",
      "3              NaN            NaN            NaN            NaN   \n",
      "4              NaN            NaN            NaN            NaN   \n",
      "5              NaN            NaN            NaN            NaN   \n",
      "6                2            NaN            NaN            NaN   \n",
      "..             ...            ...            ...            ...   \n",
      "99             NaN            NaN            NaN            NaN   \n",
      "100            NaN            NaN            NaN            NaN   \n",
      "101            NaN            NaN            NaN            NaN   \n",
      "102              2            NaN            NaN            NaN   \n",
      "103              2            NaN            NaN            NaN   \n",
      "\n",
      "    195_Q1_0_GROUP 196_Q1_0_GROUP 197_Q1_0_GROUP 198_Q1_0_GROUP  \\\n",
      "2                2              1            NaN            NaN   \n",
      "3              NaN            NaN              1            NaN   \n",
      "4              NaN              1            NaN            NaN   \n",
      "5                2            NaN            NaN            NaN   \n",
      "6              NaN            NaN            NaN            NaN   \n",
      "..             ...            ...            ...            ...   \n",
      "99               2            NaN              2            NaN   \n",
      "100            NaN              2            NaN            NaN   \n",
      "101            NaN            NaN            NaN            NaN   \n",
      "102              2            NaN            NaN            NaN   \n",
      "103            NaN              1              2            NaN   \n",
      "\n",
      "    199_Q1_0_GROUP 200_Q1_0_GROUP  \n",
      "2              NaN            NaN  \n",
      "3              NaN              2  \n",
      "4              NaN            NaN  \n",
      "5                2            NaN  \n",
      "6              NaN            NaN  \n",
      "..             ...            ...  \n",
      "99             NaN            NaN  \n",
      "100            NaN            NaN  \n",
      "101            NaN            NaN  \n",
      "102            NaN            NaN  \n",
      "103              1            NaN  \n",
      "\n",
      "[102 rows x 200 columns]\n"
     ]
    },
    {
     "data": {
      "text/plain": [
       "'From onward, you can refer to the original data via ogQ_df'"
      ]
     },
     "execution_count": 3,
     "metadata": {},
     "output_type": "execute_result"
    }
   ],
   "source": [
    "# Due to Qualtrics formatting the data must be cut out of the group rank column\n",
    "#Misc Columns to Drop\n",
    "drop_columns = ['StartDate','ProlificID', 'EndDate', 'Status', 'IPAddress', 'Progress', \n",
    "                      'Duration (in seconds)', 'Finished', 'RecordedDate', 'ResponseId',\n",
    "                      'RecipientLastName', 'RecipientFirstName', 'RecipientEmail', 'ExternalReference',\n",
    "                      'LocationLatitude', 'LocationLongitude', 'DistributionChannel', 'UserLanguage', \n",
    "                      'EmbeddedData', 'Create New Field or Choose From Dropdown...', 'Q3']\n",
    "\n",
    "#Cut rank columns per question\n",
    "rank_cut = ['{}_Q1_0_1_RANK'.format(x) for x in range(1,201)]\n",
    "rank_cut_2 = ['{}_Q1_0_2_RANK'.format(x) for x in range(1,201)] \n",
    "drop_columns.extend(rank_cut)\n",
    "drop_columns.extend(rank_cut_2)\n",
    "\n",
    "#Drop the Columns\n",
    "Q_df = Q_df.drop(columns=drop_columns)\n",
    "\n",
    "#Remove the pesky 2nd header row\n",
    "Q_df = Q_df.iloc[2: , :]\n",
    "\n",
    "#Finally defragmenting the DataFrame for Performance\n",
    "ogQ_df = Q_df.copy()\n",
    "\n",
    "#Print the Dataframe: check for 200 questions.\n",
    "print('Trimmed Data frame shape: ', Q_df.shape, '\\n')\n",
    "print(Q_df)\n",
    "\n",
    "\"\"\"From onward, you can refer to the original data via ogQ_df\"\"\""
   ]
  },
  {
   "cell_type": "markdown",
   "id": "5162d2d0-43fa-4977-9b57-1463b8008770",
   "metadata": {},
   "source": [
    "### Translate Group Number to Rand Index"
   ]
  },
  {
   "cell_type": "code",
   "execution_count": 4,
   "id": "d1c32506-326a-4004-bc23-bbcc24c2a244",
   "metadata": {},
   "outputs": [],
   "source": [
    "# We will now translate the values that are not nan into the rand index\n",
    "#  of the corresponding question.\n",
    "\n",
    "#Lamba Function to retrieve Rand Indexes from reference csv\n",
    "def get_maxrand_index(x, q):\n",
    "    \n",
    "    response = 0\n",
    "    if isinstance(x, str): #If a string and not nan\n",
    "        if x == '1': #if 1, give filename\n",
    "            response = int(R_df['FileName'][q][:-4])\n",
    "        elif x == '2': #if 2, give associated pairing filename\n",
    "            response = int(R_df['RandFile'][q][:-4])   \n",
    "        else:\n",
    "            response = 0\n",
    "            \n",
    "    return response\n",
    "\n",
    "def get_minrand_index(x, q):\n",
    "    \n",
    "    response = 0\n",
    "    if isinstance(x, str): #If a string and not nan\n",
    "        if x == '1': #if 1, give filename\n",
    "            response = int(R_df['RandFile'][q][:-4]) \n",
    "        elif x == '2': #if 2, give associated pairing filename  \n",
    "            response = int(R_df['FileName'][q][:-4])\n",
    "        else:\n",
    "            response = 0\n",
    "            \n",
    "    return response\n",
    "\n",
    "#Running a loop that references R_df (reference_dataframe) for the index\n",
    "for q in range(0,Q_df.shape[1]):\n",
    "    Q_df['Similar_Q{}'.format(q+1)] = Q_df['{}_Q1_0_GROUP'.format(q+1)].apply(lambda x: get_maxrand_index(x, q))\n",
    "    Q_df['Different_Q{}'.format(q+1)] = Q_df['{}_Q1_0_GROUP'.format(q+1)].apply(lambda x: get_minrand_index(x, q))"
   ]
  },
  {
   "cell_type": "code",
   "execution_count": 5,
   "id": "3a9a5f37-58d4-4180-9b1d-2a60378b2153",
   "metadata": {},
   "outputs": [
    {
     "name": "stdout",
     "output_type": "stream",
     "text": [
      "(array([     0, 103355, 491072]), array([90, 10,  2]))\n"
     ]
    },
    {
     "data": {
      "text/plain": [
       "'One can reach this dataframe at any time using RandQ_df'"
      ]
     },
     "execution_count": 5,
     "metadata": {},
     "output_type": "execute_result"
    }
   ],
   "source": [
    "# Apologies for the massive errors, but the current version of pandas has an unresolved bug with\n",
    "#  format based column selection being percieved as fragmentation. \n",
    "#  Hopefully a contributer changes that soon\n",
    "\n",
    "#Let us relock onto the relevant portion of the dataframe.\n",
    "RandQ_df = Q_df.iloc[:, 200:]\n",
    "print(np.unique(RandQ_df['Similar_Q1'], return_counts=True))\n",
    "\n",
    "\"\"\"One can reach this dataframe at any time using RandQ_df\"\"\""
   ]
  },
  {
   "cell_type": "markdown",
   "id": "aef4062c-47e2-4749-a521-0293b23d03bc",
   "metadata": {},
   "source": [
    "### DataFrame Reference Text"
   ]
  },
  {
   "cell_type": "markdown",
   "id": "0ffd8b4a-bd1c-4590-bace-0007e2d1c8a6",
   "metadata": {},
   "source": [
    "    The RandQ_df dataframe provides two columns per question:\n",
    "    The Similar Column shows which image the participant selected as similar\n",
    "    The Different Column shows which image the participant selected as different\n",
    "    \n",
    "    *The Difference column is a mirror of the first, for ease of deducing matched\n",
    "        image pairs!\n",
    "    \n",
    "    To deduce the total number of votes one can sum the answers that\n",
    "    are not 0 in either of the columns.\n",
    "    \n",
    "    We will now export this dataframe as the defacto data to be analyzed."
   ]
  },
  {
   "cell_type": "markdown",
   "id": "944b2e50-f5f9-4551-8cef-d3f263e04e19",
   "metadata": {},
   "source": [
    "### Saving the DF to CSV"
   ]
  },
  {
   "cell_type": "code",
   "execution_count": 6,
   "id": "c9ac248a-ebe1-4bd8-ad36-c2934750eb28",
   "metadata": {},
   "outputs": [],
   "source": [
    "RandQ_df.to_csv('ResponseIndex.csv')"
   ]
  },
  {
   "cell_type": "markdown",
   "id": "922eb429-0cb4-49d1-bce2-e9c9c6e6058a",
   "metadata": {},
   "source": [
    "### Retrieving the BenchMark ID's & Calculating Embeddings\n",
    "\n",
    "To retrieve the benchmarks from the random set we need to calculate the cnn/wavlet embeddings and look for embeddings >= 0.5. First we need to retrive the embedding data."
   ]
  },
  {
   "cell_type": "code",
   "execution_count": 8,
   "id": "bcd028cd-3596-4d08-8f6c-f9ad2eeba690",
   "metadata": {},
   "outputs": [],
   "source": [
    "block_data, block_data_stats = get_block_data(jzazbz_array)\n",
    "\n",
    "minmax_dists = {}\n",
    "img_names_in_order = {}\n",
    "\n",
    "for key in embedding_paths.keys():\n",
    "    minmax_dists[key], img_names_in_order[key] = get_block_embeddings(block_data,key,embedding_paths[key])"
   ]
  },
  {
   "cell_type": "markdown",
   "id": "4041a1e0-a453-4e38-b989-683407257189",
   "metadata": {},
   "source": [
    "### Finding Benchmark IDs"
   ]
  },
  {
   "cell_type": "code",
   "execution_count": 9,
   "id": "9812b619-4e9c-4b8d-be53-e456b0cfd409",
   "metadata": {},
   "outputs": [
    {
     "name": "stdout",
     "output_type": "stream",
     "text": [
      "Length of Rands:  200 \n",
      "\n",
      "[103355, 107450, 110268, 114352, 120151, 121958, 125657, 128148, 128391, 129473, 129981, 131932, 135230, 137337, 139182, 149503, 152617, 155576, 156542, 156730, 157164, 158823, 171829, 171836, 171890, 173416, 175203, 177247, 177789, 177804, 17955, 184779, 191335, 197775, 199041, 20056, 214176, 218126, 220884, 220984, 22671, 231915, 235167, 235362, 235796, 239931, 248710, 252764, 256840, 258795, 259178, 269536, 270936, 273538, 278167, 286103, 288790, 291999, 298356, 312252, 314877, 319030, 321879, 327069, 32711, 328947, 329365, 331236, 347449, 349457, 350605, 351279, 364167, 365838, 365871, 365890, 366326, 384681, 385777, 39081, 400573, 41090, 416880, 420571, 421909, 435564, 43585, 439792, 452366, 454351, 461243, 473254, 482690, 486232, 489492, 491072, 500186, 500328, 501108, 516349, 51663, 519332, 521430, 52528, 527035, 528178, 529036, 536226, 539439, 543176, 54886, 555839, 559042, 564685, 565894, 568550, 573665, 579879, 591723, 592673, 593128, 601661, 601863, 607086, 612210, 61476, 61629, 618467, 618992, 623094, 627083, 627234, 627438, 631347, 638353, 644167, 648143, 64820, 648663, 650308, 654811, 65725, 660890, 665987, 671155, 681669, 690607, 690907, 691095, 699438, 702965, 704107, 718315, 721747, 721772, 725256, 72991, 731899, 732180, 734965, 734994, 743974, 750201, 755073, 760463, 764121, 772838, 776997, 787201, 790180, 791743, 791971, 805889, 822209, 822352, 84654, 856703, 858158, 870910, 873332, 874371, 87498, 889765, 899159, 902648, 905778, 912756, 917040, 918232, 924618, 941218, 941970, 953277, 954698, 955592, 969587, 973324, 978217, 989436, 990198]\n"
     ]
    }
   ],
   "source": [
    "# Using R_df we retrieve a list of rands. \n",
    "\n",
    "rand_column = R_df['FileName'].tolist()\n",
    "rands = [int(i[:-4]) for i in rand_column]\n",
    "\n",
    "print('Length of Rands: ', len(rands), '\\n')\n",
    "print(rands)"
   ]
  },
  {
   "cell_type": "code",
   "execution_count": 12,
   "id": "d9ca6092-9443-4fc1-8762-11efeb43b106",
   "metadata": {},
   "outputs": [
    {
     "data": {
      "image/png": "[encoded data removed]",
      "text/plain": [
       "<Figure size 576x576 with 1 Axes>"
      ]
     },
     "metadata": {
      "image/png": {
       "height": 495,
       "width": 519
      },
      "needs_background": "light"
     },
     "output_type": "display_data"
    },
    {
     "name": "stdout",
     "output_type": "stream",
     "text": [
      "Length of Benchmark Set:  60\n",
      "Benchmark Set:  [110268, 121958, 129981, 131932, 137337, 149503, 175203, 184779, 199041, 235796, 239931, 256840, 258795, 259178, 270936, 273538, 278167, 319030, 327069, 328947, 329365, 331236, 347449, 349457, 365838, 384681, 41090, 421909, 452366, 473254, 486232, 489492, 500186, 521430, 527035, 528178, 54886, 565894, 591723, 648143, 64820, 654811, 65725, 665987, 718315, 732180, 776997, 787201, 791743, 84654, 870910, 87498, 899159, 902648, 905778, 912756, 917040, 953277, 954698, 989436]\n"
     ]
    }
   ],
   "source": [
    "fig, ax = plt.subplots(figsize=(8,8))\n",
    "benchmark_index = []\n",
    "\n",
    "#Plot Pairs in \n",
    "for rand in rands:\n",
    "    \n",
    "    #ColorA\n",
    "    a = minmax_dists['CNN'][block_data_stats['minmax_dists']>0.][rand]\n",
    "    b = minmax_dists['JzAzBz_wavelet'][block_data_stats['minmax_dists']>0.][rand]\n",
    "    \n",
    "    #ColorB\n",
    "    c = -0.01+minmax_dists['CNN'][block_data_stats['minmax_dists']>0.][rand]\n",
    "    d = minmax_dists['JzAzBz_wavelet'][block_data_stats['minmax_dists']>0.][rand]\n",
    "    \n",
    "    color1 = np.array(block_data_stats['colors1']).reshape(1000000,3)[block_data_stats['minmax_dists']>0.][rand]/255.\n",
    "    color2 = np.ravel(block_data_stats['colors2']).reshape(1000000,3)[block_data_stats['minmax_dists']>0.][rand]/255.\n",
    "    \n",
    "    #If CNN and Wavlet Embedding is > 0.5, then plot and add to benchmark index.\n",
    "    if a > 0.5 and b > 0.5:\n",
    "        ax.scatter(a,b, marker='s',s=30,alpha=1., color=color1)\n",
    "        ax.scatter(c,d, marker='s',s=30,alpha=1., color=color2)\n",
    "        \n",
    "        benchmark_index.append(rand)\n",
    "    \n",
    "plt.plot(np.ones(10)*0.5,np.linspace(0.,1.,10),'k--',alpha=0.5)\n",
    "plt.plot(np.linspace(0.,1.,10),np.ones(10)*0.5,'k--',alpha=0.5)\n",
    "\n",
    "plt.xticks([0.,0.2,0.4,0.6,0.8,1.0],fontsize=16)\n",
    "plt.yticks([0.,0.2,0.4,0.6,0.8,1.0],fontsize=16)\n",
    "\n",
    "plt.xlabel(r'Convolutional DNN Similarity',fontsize=20)\n",
    "plt.ylabel(r'$J_z A_z B_z$ Wavelet Similarity',fontsize=20)\n",
    "plt.show()\n",
    "\n",
    "print('Length of Benchmark Set: ', len(benchmark_index))\n",
    "print('Benchmark Set: ', benchmark_index)"
   ]
  },
  {
   "cell_type": "markdown",
   "id": "42ab8726-7fb6-4f94-83e5-15def7e34a53",
   "metadata": {},
   "source": [
    "### Creating Embedding Dataframe & Mapping Embeddings"
   ]
  },
  {
   "cell_type": "code",
   "execution_count": 14,
   "id": "43ea472c-f0d8-4f70-ab54-ed57bd097b87",
   "metadata": {},
   "outputs": [],
   "source": [
    "#Make Lists and apply all to the dataframe\n",
    "cnn = []\n",
    "style = []\n",
    "transformer = []\n",
    "wav = []\n",
    "jzazbz = []\n",
    "rgb = []\n",
    "benchmark = []\n",
    "\n",
    "# Retrieving Embeddings for every Rand Index Value\n",
    "for rand in rands: \n",
    "    cnn_embed = minmax_dists['CNN'][block_data_stats['minmax_dists']>0.][rand]\n",
    "    style_embed = minmax_dists['Style'][block_data_stats['minmax_dists']>0.][rand]\n",
    "    transformer_embed = minmax_dists['Transformer'][block_data_stats['minmax_dists']>0.][rand]\n",
    "    wav_embed = minmax_dists['JzAzBz_wavelet'][block_data_stats['minmax_dists']>0.][rand]\n",
    "    jzazbz_embed = 1.-block_data_stats['minmax_dists'][block_data_stats['minmax_dists']>0.][rand]\n",
    "    rgb_embed = 1.-block_data_stats['rgb_minmax_dists'][block_data_stats['minmax_dists']>0.][rand]\n",
    "    \n",
    "    bench = False\n",
    "    if rand in benchmark_index:\n",
    "        bench = True\n",
    "        \n",
    "    cnn.append(cnn_embed)\n",
    "    style.append(style_embed)\n",
    "    transformer.append(transformer_embed)\n",
    "    wav.append(wav_embed)\n",
    "    jzazbz.append(jzazbz_embed)\n",
    "    rgb.append(rgb_embed)\n",
    "    benchmark.append(bench)"
   ]
  },
  {
   "cell_type": "code",
   "execution_count": 15,
   "id": "a69dd619-b35a-46cf-a35e-8d6bf4fed892",
   "metadata": {},
   "outputs": [
    {
     "name": "stdout",
     "output_type": "stream",
     "text": [
      "Shape of vote array:  (200, 4)\n",
      "[[103355     10 491072      2]\n",
      " [149503     16 107450      0]\n",
      " [110268      7  17955      5]\n",
      " [732180      6 114352      5]\n",
      " [120151     12 618992      1]\n",
      " [121958      6 568550      0]\n",
      " [349457      6 125657      2]\n",
      " [128148      4 791743      2]\n",
      " [128391      5 822352      3]\n",
      " [239931     12 129473      0]\n",
      " [129981     15 329365      0]\n",
      " [131932      7 889765      6]\n",
      " [764121     10 135230      6]\n",
      " [137337      8 385777      3]\n",
      " [912756     12 139182      2]\n",
      " [149503     15 858158      0]\n",
      " [288790      6 152617      1]\n",
      " [718315      3 155576      3]\n",
      " [416880      8 156542      4]\n",
      " [347449      8 156730      6]]\n"
     ]
    }
   ],
   "source": [
    "#Getting Majority and Minority Votes for each pair from RandQ_df\n",
    "vote_array = np.empty((200,4), dtype='int')\n",
    "\n",
    "for q in range(0,200):\n",
    "    \n",
    "    #Sorted Array of Majority Voted Similar\n",
    "    a = RandQ_df['Similar_Q{}'.format(q+1)].where(RandQ_df['Similar_Q{}'.format(q+1)]!=0).value_counts()\n",
    "    \n",
    "    #Sorted Array of Majority Voted Different (used to index in the case of 100% A votes.)\n",
    "    b = RandQ_df['Different_Q{}'.format(q+1)].where(RandQ_df['Different_Q{}'.format(q+1)]!=0).value_counts()\n",
    "    \n",
    "    #total votes\n",
    "    c = np.sum(a[:])\n",
    "    \n",
    "    #Array format: Index of majority similar, Votes, Index of Minority, Votes\n",
    "    vote_array[q]= int(a.index[0]), a.iloc[0], b.index[0], (c-b.iloc[0])\n",
    "\n",
    "print('Shape of vote array: ',vote_array.shape)\n",
    "print(vote_array[:20])"
   ]
  },
  {
   "cell_type": "code",
   "execution_count": 16,
   "id": "40cce371-1e56-41f7-8aad-4e2ee6486683",
   "metadata": {},
   "outputs": [],
   "source": [
    "\n",
    "out = []\n",
    "for pair in vote_array:\n",
    "    major = int(np.where(rands == pair[0])[0])\n",
    "    minor = int(np.where(rands == pair[2])[0])\n",
    "    \n",
    "    out.append([rands[major], pair[1], pair[2], pair[3], \n",
    "          cnn[major], cnn[minor],\n",
    "          style[major], style[minor],\n",
    "          transformer[major], transformer[minor],\n",
    "          wav[major], wav[minor], \n",
    "          jzazbz[major], jzazbz[minor],\n",
    "          rgb[major], rgb[minor],\n",
    "          benchmark[major], benchmark[minor]])\n",
    "    \n",
    "    '''\n",
    "    print(rands[major], pair[1], pair[2], pair[3], \n",
    "          cnn[major], cnn[minor],\n",
    "          style[major], style[minor],\n",
    "          transformer[major], transformer[minor],\n",
    "          wav[major], wav[minor], \n",
    "          jzazbz[major], jzazbz[minor],\n",
    "          rgb[major], rgb[minor],\n",
    "          benchmark[major], benchmark[minor]\n",
    "         )'''\n",
    "    "
   ]
  },
  {
   "cell_type": "code",
   "execution_count": 17,
   "id": "cf2be7d3-96c0-4629-bd80-4bdcbdcde8c0",
   "metadata": {},
   "outputs": [
    {
     "name": "stdout",
     "output_type": "stream",
     "text": [
      "     RandSimilar  MajorityVote  RandDifferent  MinorityVote  MajorCNN  \\\n",
      "0         103355            10         491072             2  0.442575   \n",
      "1         149503            16         107450             0  0.727279   \n",
      "2         110268             7          17955             5  0.710107   \n",
      "3         732180             6         114352             5  0.632895   \n",
      "4         120151            12         618992             1  0.285419   \n",
      "..           ...           ...            ...           ...       ...   \n",
      "195       969587             8         529036             6  0.412947   \n",
      "196       139182             9         973324             6  0.666255   \n",
      "197       978217             4         482690             2  0.294154   \n",
      "198       873332             7         989436             4  0.554749   \n",
      "199       521430            14         990198             0  0.969299   \n",
      "\n",
      "     MinorCNN  MajorStyle  MinorStyle  MajorTransformer  MinorTransformer  \\\n",
      "0    0.398159    0.506731    0.705181          0.960057          0.920314   \n",
      "1    0.488641    0.752379    0.420172          0.955878          0.588870   \n",
      "2    0.638062    0.508208    0.497053          0.957655          0.969388   \n",
      "3    0.554084    0.606613    0.493595          0.955975          0.967666   \n",
      "4    0.365022    0.239211    0.084396          0.943188          0.939870   \n",
      "..        ...         ...         ...               ...               ...   \n",
      "195  0.240092    0.592993    0.133645          0.948636          0.949370   \n",
      "196  0.607848    0.554611    0.418552          0.961362          0.897698   \n",
      "197  0.323279    0.719721    0.462131          0.922553          0.944560   \n",
      "198  0.796268    0.570938    0.585494          0.962643          0.969855   \n",
      "199  0.656114    0.984764    0.358421          0.997509          0.969164   \n",
      "\n",
      "     MajorWavelet  MinorWavelet  MajorJzAzBz  MinorJzAzBz  MajorRGB  MinorRGB  \\\n",
      "0        0.651812      0.924303     0.475621     0.649423  0.590760  0.469558   \n",
      "1        0.764528      0.779164     0.486323     0.511187  0.618681  0.269021   \n",
      "2        0.600786      0.350383     0.465472     0.235869  0.586144  0.444803   \n",
      "3        0.725515      0.342885     0.569033     0.251432  0.556438  0.439341   \n",
      "4        0.852558      0.685151     0.631671     0.429822  0.594687  0.348879   \n",
      "..            ...           ...          ...          ...       ...       ...   \n",
      "195      0.825176      0.794913     0.621392     0.529985  0.615091  0.455823   \n",
      "196      0.271759      0.425047     0.242372     0.246900  0.428889  0.420879   \n",
      "197      0.819059      0.845588     0.532276     0.605489  0.407461  0.496526   \n",
      "198      0.398430      0.673612     0.269039     0.434667  0.386511  0.448975   \n",
      "199      0.997955      0.295043     0.936812     0.134791  0.889881  0.297322   \n",
      "\n",
      "     MajorIsBenchmark  MinorIsBenchmark  \n",
      "0               False             False  \n",
      "1                True             False  \n",
      "2                True             False  \n",
      "3                True             False  \n",
      "4               False             False  \n",
      "..                ...               ...  \n",
      "195             False             False  \n",
      "196             False             False  \n",
      "197             False             False  \n",
      "198             False              True  \n",
      "199              True             False  \n",
      "\n",
      "[200 rows x 18 columns]\n"
     ]
    }
   ],
   "source": [
    "# One Frame to rule them all, One Frame to find them, One Frame to bring them all, and in the notebook bind them\n",
    "TheOneFrame = pd.DataFrame(out, columns = [\n",
    "                            'RandSimilar',  'MajorityVote',\n",
    "                            'RandDifferent', 'MinorityVote',\n",
    "                            'MajorCNN', 'MinorCNN',\n",
    "                            'MajorStyle', 'MinorStyle',\n",
    "                            'MajorTransformer', 'MinorTransformer',\n",
    "                            'MajorWavelet', 'MinorWavelet',\n",
    "                            'MajorJzAzBz', 'MinorJzAzBz',\n",
    "                            'MajorRGB', 'MinorRGB',\n",
    "                            'MajorIsBenchmark','MinorIsBenchmark'\n",
    "                           ]) \n",
    "\n",
    "print(TheOneFrame)\n",
    "TheOneFrame.to_csv('TheOneFrame.csv')"
   ]
  },
  {
   "cell_type": "code",
   "execution_count": 18,
   "id": "e002d31c-3527-40aa-bc40-701e25284ef1",
   "metadata": {},
   "outputs": [],
   "source": [
    "benchmark_test = 0.\n",
    "\n",
    "for i in range(len(TheOneFrame)):\n",
    "    if np.logical_and(TheOneFrame['MajorIsBenchmark'].values[i] == True,\n",
    "                     TheOneFrame['MinorIsBenchmark'].values[i] == True):\n",
    "        benchmark_test += 1"
   ]
  },
  {
   "cell_type": "code",
   "execution_count": 19,
   "id": "c2253da9",
   "metadata": {},
   "outputs": [
    {
     "data": {
      "text/plain": [
       "16.0"
      ]
     },
     "execution_count": 19,
     "metadata": {},
     "output_type": "execute_result"
    }
   ],
   "source": [
    "benchmark_test"
   ]
  },
  {
   "cell_type": "markdown",
   "id": "2838ab79",
   "metadata": {},
   "source": [
    "### Majority/minority statistics"
   ]
  },
  {
   "cell_type": "code",
   "execution_count": 25,
   "id": "91cde5ac",
   "metadata": {},
   "outputs": [],
   "source": [
    "all_num = 0.\n",
    "JzAzBz_agree = 0.\n",
    "RGB_agree = 0.\n",
    "\n",
    "all_num_benchmark = 0.\n",
    "JzAzBz_agree_benchmark = 0.\n",
    "RGB_agree_benchmark = 0.\n",
    "\n",
    "jzazbz_failed_array = np.zeros(len(TheOneFrame))\n",
    "\n",
    "for i in range(len(TheOneFrame)):\n",
    "    if np.logical_or(TheOneFrame['MajorIsBenchmark'].values[i] == True,\n",
    "                     TheOneFrame['MinorIsBenchmark'].values[i] == True):\n",
    "        if TheOneFrame['MajorJzAzBz'].values[i] > TheOneFrame['MinorJzAzBz'].values[i]:\n",
    "            JzAzBz_agree_benchmark += 1#TheOneFrame['VotesForMajority'].values[i]\n",
    "            JzAzBz_failed_benchmark = False\n",
    "        else:\n",
    "            JzAzBz_agree_benchmark += 0#TheOneFrame['TotalVotes'].values[i] - TheOneFrame['VotesForMajority'].values[i]\n",
    "            JzAzBz_failed_benchmark = True\n",
    "        if TheOneFrame['MajorRGB'].values[i] > TheOneFrame['MinorRGB'].values[i]:\n",
    "            RGB_agree_benchmark += 1#TheOneFrame['VotesForMajority'].values[i]\n",
    "#             if JzAzBz_failed_benchmark == True:\n",
    "#                 print('JzAzBz Failed_benchmark:', TheOneFrame['RandSimilar'].values[i],TheOneFrame['RandDifferent'].values[i])\n",
    "#                 jzazbz_failed_array[i] = 1\n",
    "        else:\n",
    "            RGB_agree_benchmark += 0#TheOneFrame['TotalVotes'].values[i] - TheOneFrame['VotesForMajority'].values[i]\n",
    "#             if JzAzBz_failed_benchmark == False:\n",
    "#                 print('RGB Failed_benchmark:', TheOneFrame['RandSimilar'].values[i],TheOneFrame['RandDifferent'].values[i])\n",
    "        all_num_benchmark += 1#TheOneFrame['TotalVotes'].values[i]\n",
    "    else:\n",
    "        if TheOneFrame['MajorJzAzBz'].values[i] > TheOneFrame['MinorJzAzBz'].values[i]:\n",
    "            JzAzBz_agree += 1#TheOneFrame['VotesForMajority'].values[i]\n",
    "            JzAzBz_failed = False\n",
    "        else:\n",
    "            JzAzBz_agree += 0#TheOneFrame['TotalVotes'].values[i] - TheOneFrame['VotesForMajority'].values[i]\n",
    "            JzAzBz_failed = True\n",
    "        if TheOneFrame['MajorRGB'].values[i] > TheOneFrame['MinorRGB'].values[i]:\n",
    "            RGB_agree += 1#TheOneFrame['VotesForMajority'].values[i]\n",
    "#             if JzAzBz_failed == True:\n",
    "#                 print('JzAzBz Failed:', TheOneFrame['RandSimilar'].values[i],TheOneFrame['RandDifferent'].values[i])\n",
    "#                 jzazbz_failed_array[i] = 1\n",
    "        else:\n",
    "            RGB_agree += 0#TheOneFrame['TotalVotes'].values[i] - TheOneFrame['VotesForMajority'].values[i]\n",
    "#             if JzAzBz_failed == False:\n",
    "#                 print('RGB Failed:', TheOneFrame['RandSimilar'].values[i],TheOneFrame['RandDifferent'].values[i])\n",
    "        all_num += 1#TheOneFrame['TotalVotes'].values[i]\n",
    "    "
   ]
  },
  {
   "cell_type": "code",
   "execution_count": 26,
   "id": "2b0b571e",
   "metadata": {},
   "outputs": [
    {
     "name": "stdout",
     "output_type": "stream",
     "text": [
      "0.6979166666666666\n",
      "0.71875\n",
      "96.0\n"
     ]
    }
   ],
   "source": [
    "print(JzAzBz_agree/(1.*all_num))\n",
    "print(RGB_agree/(1.*all_num))\n",
    "\n",
    "# print(JzAzBz_agree_benchmark/(1.*all_num_benchmark))\n",
    "# print(RGB_agree_benchmark/(1.*all_num_benchmark))\n",
    "\n",
    "print(all_num)\n",
    "# print(all_num_benchmark)"
   ]
  },
  {
   "cell_type": "code",
   "execution_count": 27,
   "id": "da84d04e",
   "metadata": {},
   "outputs": [
    {
     "name": "stdout",
     "output_type": "stream",
     "text": [
      "Wavelet Failed_benchmark: 149503 107450\n",
      "Wavelet Failed_benchmark: 349457 125657\n",
      "Wavelet Failed_benchmark: 137337 385777\n",
      "Wavelet Failed_benchmark: 718315 155576\n",
      "Wavelet Failed_benchmark: 235796 601863\n",
      "Wavelet Failed_benchmark: 286103 365838\n",
      "Wavelet Failed_benchmark: 235167 329365\n",
      "Wavelet Failed_benchmark: 384681 41090\n",
      "Wavelet Failed_benchmark: 452366 941218\n",
      "Wavelet Failed_benchmark: 235796 579879\n",
      "Wavelet Failed_benchmark: 591723 755073\n",
      "Wavelet Failed_benchmark: 627438 489492\n",
      "Wavelet Failed_benchmark: 528178 64820\n",
      "Wavelet Failed_benchmark: 870910 65725\n",
      "Wavelet Failed_benchmark: 137337 721772\n",
      "Wavelet Failed_benchmark: 732180 155576\n",
      "Wavelet Failed_benchmark: 256840 791743\n",
      "Wavelet Failed_benchmark: 912756 516349\n",
      "Wavelet Failed_benchmark: 954698 918232\n"
     ]
    }
   ],
   "source": [
    "all_num = 0.\n",
    "cnn_agree = 0.\n",
    "wavelet_agree = 0.\n",
    "\n",
    "all_num_benchmark = 0.\n",
    "cnn_agree_benchmark = 0.\n",
    "wavelet_agree_benchmark = 0.\n",
    "\n",
    "cnn_failed_array = np.zeros(len(TheOneFrame))\n",
    "wavelet_failed_array = np.zeros(len(TheOneFrame))\n",
    "\n",
    "for i in range(len(TheOneFrame)):\n",
    "    if np.logical_or(TheOneFrame['MajorIsBenchmark'].values[i] == True,\n",
    "                     TheOneFrame['MinorIsBenchmark'].values[i] == True):\n",
    "        if TheOneFrame['MajorCNN'].values[i] > TheOneFrame['MinorCNN'].values[i]:\n",
    "            cnn_agree_benchmark += 1#TheOneFrame['VotesForMajority'].values[i]\n",
    "            cnn_failed_benchmark = False\n",
    "        else:\n",
    "            cnn_agree_benchmark += 0#TheOneFrame['TotalVotes'].values[i] - TheOneFrame['VotesForMajority'].values[i]\n",
    "            cnn_failed_benchmark = True\n",
    "        if TheOneFrame['MajorWavelet'].values[i] > TheOneFrame['MinorWavelet'].values[i]:\n",
    "            wavelet_agree_benchmark += 1#TheOneFrame['VotesForMajority'].values[i]\n",
    "            if cnn_failed_benchmark == True:\n",
    "#                 print('CNN Failed_benchmark:', TheOneFrame['RandSimilar'].values[i],TheOneFrame['RandDifferent'].values[i])\n",
    "                cnn_failed_array[i] = 1\n",
    "        else:\n",
    "            wavelet_agree_benchmark += 0#TheOneFrame['TotalVotes'].values[i] - TheOneFrame['VotesForMajority'].values[i]\n",
    "            if cnn_failed_benchmark == False:\n",
    "                print('Wavelet Failed_benchmark:', TheOneFrame['RandSimilar'].values[i],TheOneFrame['RandDifferent'].values[i])\n",
    "                wavelet_failed_array[i] = 1\n",
    "        all_num_benchmark += 1#TheOneFrame['TotalVotes'].values[i]\n",
    "    else:\n",
    "        if TheOneFrame['MajorCNN'].values[i] > TheOneFrame['MinorCNN'].values[i]:\n",
    "            cnn_agree += 1#TheOneFrame['VotesForMajority'].values[i]\n",
    "            cnn_failed = False\n",
    "        else:\n",
    "            cnn_agree += 0#TheOneFrame['TotalVotes'].values[i] - TheOneFrame['VotesForMajority'].values[i]\n",
    "            cnn_failed = True\n",
    "        if TheOneFrame['MajorWavelet'].values[i] > TheOneFrame['MinorWavelet'].values[i]:\n",
    "            wavelet_agree += 1#TheOneFrame['VotesForMajority'].values[i]\n",
    "            if cnn_failed == True:\n",
    "#                 print('CNN Failed:', TheOneFrame['RandSimilar'].values[i],TheOneFrame['RandDifferent'].values[i])\n",
    "                cnn_failed_array[i] = 1\n",
    "        else:\n",
    "            wavelet_agree += 0#TheOneFrame['TotalVotes'].values[i] - TheOneFrame['VotesForMajority'].values[i]\n",
    "            if cnn_failed == False:\n",
    "#                 print('Wavelet Failed:', TheOneFrame['RandSimilar'].values[i],TheOneFrame['RandDifferent'].values[i])\n",
    "                wavelet_failed_array[i] = 1\n",
    "        all_num += 1#TheOneFrame['TotalVotes'].values[i]\n",
    "    "
   ]
  },
  {
   "cell_type": "code",
   "execution_count": 28,
   "id": "3be56b10",
   "metadata": {},
   "outputs": [
    {
     "name": "stdout",
     "output_type": "stream",
     "text": [
      "0.40625\n",
      "0.6666666666666666\n",
      "0.7115384615384616\n",
      "0.75\n",
      "0.565\n",
      "0.71\n",
      "96.0\n",
      "104.0\n"
     ]
    }
   ],
   "source": [
    "print(cnn_agree/(1.*all_num))\n",
    "print(wavelet_agree/(1.*all_num))\n",
    "\n",
    "print(cnn_agree_benchmark/(1.*all_num_benchmark))\n",
    "print(wavelet_agree_benchmark/(1.*all_num_benchmark))\n",
    "\n",
    "print((cnn_agree+cnn_agree_benchmark)/(1.*(all_num+all_num_benchmark)))\n",
    "print((wavelet_agree+wavelet_agree_benchmark)/(1.*(all_num+all_num_benchmark)))\n",
    "\n",
    "print(all_num)\n",
    "print(all_num_benchmark)"
   ]
  },
  {
   "cell_type": "code",
   "execution_count": 29,
   "id": "6e79849e",
   "metadata": {},
   "outputs": [
    {
     "name": "stdout",
     "output_type": "stream",
     "text": [
      "SpearmanrResult(correlation=0.3848891594462436, pvalue=0.00010794551022299552)\n",
      "SpearmanrResult(correlation=-0.2139977752722033, pvalue=0.03629618786605138)\n"
     ]
    }
   ],
   "source": [
    "ind = np.logical_or(TheOneFrame['MajorIsBenchmark'].values == True,\n",
    "                     TheOneFrame['MinorIsBenchmark'].values == True)\n",
    "\n",
    "print(scipy.stats.spearmanr(TheOneFrame['MajorityVote'].values[ind==False]/(TheOneFrame['MajorityVote'].values[ind==False]+TheOneFrame['MinorityVote'].values[ind==False]),\n",
    "            TheOneFrame['MajorWavelet'].values[ind==False]-TheOneFrame['MinorWavelet'].values[ind==False]))\n",
    "\n",
    "print(scipy.stats.spearmanr(TheOneFrame['MajorityVote'].values[ind==False]/(TheOneFrame['MajorityVote'].values[ind==False]+TheOneFrame['MinorityVote'].values[ind==False]),\n",
    "            TheOneFrame['MajorCNN'].values[ind==False]-TheOneFrame['MinorCNN'].values[ind==False]))"
   ]
  },
  {
   "cell_type": "code",
   "execution_count": 30,
   "id": "f7ed318f",
   "metadata": {},
   "outputs": [
    {
     "name": "stdout",
     "output_type": "stream",
     "text": [
      "SpearmanrResult(correlation=0.1678230237368167, pvalue=0.10217544454395489)\n",
      "SpearmanrResult(correlation=0.008967487030027298, pvalue=0.9308989770927456)\n"
     ]
    }
   ],
   "source": [
    "ind = np.logical_or(TheOneFrame['MajorIsBenchmark'].values == True,\n",
    "                     TheOneFrame['MinorIsBenchmark'].values == True)\n",
    "\n",
    "print(scipy.stats.spearmanr(TheOneFrame['MajorityVote'].values[ind==False]/(TheOneFrame['MajorityVote'].values[ind==False]+TheOneFrame['MinorityVote'].values[ind==False]),\n",
    "            TheOneFrame['MajorStyle'].values[ind==False]-TheOneFrame['MinorStyle'].values[ind==False]))\n",
    "\n",
    "print(scipy.stats.spearmanr(TheOneFrame['MajorityVote'].values[ind==False]/(TheOneFrame['MajorityVote'].values[ind==False]+TheOneFrame['MinorityVote'].values[ind==False]),\n",
    "            TheOneFrame['MajorTransformer'].values[ind==False]-TheOneFrame['MinorTransformer'].values[ind==False]))"
   ]
  },
  {
   "cell_type": "markdown",
   "id": "8e3d8002",
   "metadata": {},
   "source": [
    "### Plot"
   ]
  },
  {
   "cell_type": "code",
   "execution_count": 31,
   "id": "543c9747",
   "metadata": {},
   "outputs": [],
   "source": [
    "x = TheOneFrame['MajorityVote'].values[ind==False]/(TheOneFrame['MajorityVote'].values[ind==False]+TheOneFrame['MinorityVote'].values[ind==False])\n",
    "\n",
    "y_wavelet = TheOneFrame['MajorWavelet'].values[ind==False]-TheOneFrame['MinorWavelet'].values[ind==False]\n",
    "\n",
    "y_wavelet_bins = []\n",
    "y_wavelet_bins.append(np.mean(y_wavelet[np.logical_and(x>=0.5,x<0.6)]))\n",
    "y_wavelet_bins.append(np.mean(y_wavelet[np.logical_and(x>=0.6,x<0.7)]))\n",
    "y_wavelet_bins.append(np.mean(y_wavelet[np.logical_and(x>=0.7,x<0.8)]))\n",
    "y_wavelet_bins.append(np.mean(y_wavelet[np.logical_and(x>=0.8,x<0.9)]))\n",
    "y_wavelet_bins.append(np.mean(y_wavelet[np.logical_and(x>=0.9,x<=1.0)]))\n",
    "\n",
    "y_wavelet_bins = np.array(y_wavelet_bins)\n",
    "\n",
    "y_wavelet_bins_std = []\n",
    "y_wavelet_bins_std.append(np.std(y_wavelet[np.logical_and(x>=0.5,x<0.6)]))\n",
    "y_wavelet_bins_std.append(np.std(y_wavelet[np.logical_and(x>=0.6,x<0.7)]))\n",
    "y_wavelet_bins_std.append(np.std(y_wavelet[np.logical_and(x>=0.7,x<0.8)]))\n",
    "y_wavelet_bins_std.append(np.std(y_wavelet[np.logical_and(x>=0.8,x<0.9)]))\n",
    "y_wavelet_bins_std.append(np.std(y_wavelet[np.logical_and(x>=0.9,x<=1.0)]))\n",
    "\n",
    "y_wavelet_bins_std = np.array(y_wavelet_bins_std)"
   ]
  },
  {
   "cell_type": "code",
   "execution_count": 32,
   "id": "85a56080",
   "metadata": {},
   "outputs": [],
   "source": [
    "x = TheOneFrame['MajorityVote'].values[ind==False]/(TheOneFrame['MajorityVote'].values[ind==False]+TheOneFrame['MinorityVote'].values[ind==False])\n",
    "\n",
    "y_CNN = TheOneFrame['MajorCNN'].values[ind==False]-TheOneFrame['MinorCNN'].values[ind==False]\n",
    "\n",
    "y_CNN_bins = []\n",
    "y_CNN_bins.append(np.mean(y_CNN[np.logical_and(x>=0.5,x<0.6)]))\n",
    "y_CNN_bins.append(np.mean(y_CNN[np.logical_and(x>=0.6,x<0.7)]))\n",
    "y_CNN_bins.append(np.mean(y_CNN[np.logical_and(x>=0.7,x<0.8)]))\n",
    "y_CNN_bins.append(np.mean(y_CNN[np.logical_and(x>=0.8,x<0.9)]))\n",
    "y_CNN_bins.append(np.mean(y_CNN[np.logical_and(x>=0.9,x<=1.0)]))\n",
    "\n",
    "y_CNN_bins = np.array(y_CNN_bins)\n",
    "\n",
    "y_CNN_bins_std = []\n",
    "y_CNN_bins_std.append(np.std(y_CNN[np.logical_and(x>=0.5,x<0.6)]))\n",
    "y_CNN_bins_std.append(np.std(y_CNN[np.logical_and(x>=0.6,x<0.7)]))\n",
    "y_CNN_bins_std.append(np.std(y_CNN[np.logical_and(x>=0.7,x<0.8)]))\n",
    "y_CNN_bins_std.append(np.std(y_CNN[np.logical_and(x>=0.8,x<0.9)]))\n",
    "y_CNN_bins_std.append(np.std(y_CNN[np.logical_and(x>=0.9,x<=1.0)]))\n",
    "\n",
    "y_CNN_bins_std = np.array(y_CNN_bins_std)"
   ]
  },
  {
   "cell_type": "code",
   "execution_count": 33,
   "id": "0f9cd9ef",
   "metadata": {},
   "outputs": [],
   "source": [
    "x = TheOneFrame['MajorityVote'].values[ind==False]/(TheOneFrame['MajorityVote'].values[ind==False]+TheOneFrame['MinorityVote'].values[ind==False])\n",
    "\n",
    "y_style = TheOneFrame['MajorStyle'].values[ind==False]-TheOneFrame['MinorStyle'].values[ind==False]\n",
    "\n",
    "y_style_bins = []\n",
    "y_style_bins.append(np.mean(y_style[np.logical_and(x>=0.5,x<0.6)]))\n",
    "y_style_bins.append(np.mean(y_style[np.logical_and(x>=0.6,x<0.7)]))\n",
    "y_style_bins.append(np.mean(y_style[np.logical_and(x>=0.7,x<0.8)]))\n",
    "y_style_bins.append(np.mean(y_style[np.logical_and(x>=0.8,x<0.9)]))\n",
    "y_style_bins.append(np.mean(y_style[np.logical_and(x>=0.9,x<=1.0)]))\n",
    "\n",
    "y_style_bins = np.array(y_style_bins)\n",
    "\n",
    "y_style_bins_std = []\n",
    "y_style_bins_std.append(np.std(y_style[np.logical_and(x>=0.5,x<0.6)]))\n",
    "y_style_bins_std.append(np.std(y_style[np.logical_and(x>=0.6,x<0.7)]))\n",
    "y_style_bins_std.append(np.std(y_style[np.logical_and(x>=0.7,x<0.8)]))\n",
    "y_style_bins_std.append(np.std(y_style[np.logical_and(x>=0.8,x<0.9)]))\n",
    "y_style_bins_std.append(np.std(y_style[np.logical_and(x>=0.9,x<=1.0)]))\n",
    "\n",
    "y_style_bins_std = np.array(y_style_bins_std)"
   ]
  },
  {
   "cell_type": "code",
   "execution_count": 34,
   "id": "207add62",
   "metadata": {},
   "outputs": [],
   "source": [
    "x = TheOneFrame['MajorityVote'].values[ind==False]/(TheOneFrame['MajorityVote'].values[ind==False]+TheOneFrame['MinorityVote'].values[ind==False])\n",
    "\n",
    "y_transformer = TheOneFrame['MajorTransformer'].values[ind==False]-TheOneFrame['MinorTransformer'].values[ind==False]\n",
    "\n",
    "y_transformer_bins = []\n",
    "y_transformer_bins.append(np.mean(y_transformer[np.logical_and(x>=0.5,x<0.6)]))\n",
    "y_transformer_bins.append(np.mean(y_transformer[np.logical_and(x>=0.6,x<0.7)]))\n",
    "y_transformer_bins.append(np.mean(y_transformer[np.logical_and(x>=0.7,x<0.8)]))\n",
    "y_transformer_bins.append(np.mean(y_transformer[np.logical_and(x>=0.8,x<0.9)]))\n",
    "y_transformer_bins.append(np.mean(y_transformer[np.logical_and(x>=0.9,x<=1.0)]))\n",
    "\n",
    "y_transformer_bins = np.array(y_transformer_bins)\n",
    "\n",
    "y_transformer_bins_std = []\n",
    "y_transformer_bins_std.append(np.std(y_transformer[np.logical_and(x>=0.5,x<0.6)]))\n",
    "y_transformer_bins_std.append(np.std(y_transformer[np.logical_and(x>=0.6,x<0.7)]))\n",
    "y_transformer_bins_std.append(np.std(y_transformer[np.logical_and(x>=0.7,x<0.8)]))\n",
    "y_transformer_bins_std.append(np.std(y_transformer[np.logical_and(x>=0.8,x<0.9)]))\n",
    "y_transformer_bins_std.append(np.std(y_transformer[np.logical_and(x>=0.9,x<=1.0)]))\n",
    "\n",
    "y_transformer_bins_std = np.array(y_transformer_bins_std)"
   ]
  },
  {
   "cell_type": "code",
   "execution_count": 35,
   "id": "c024062e",
   "metadata": {},
   "outputs": [
    {
     "data": {
      "image/png": "[encoded data removed]",
      "text/plain": [
       "<Figure size 576x432 with 1 Axes>"
      ]
     },
     "metadata": {
      "image/png": {
       "height": 394,
       "width": 542
      },
      "needs_background": "light"
     },
     "output_type": "display_data"
    }
   ],
   "source": [
    "plt.figure(figsize=(8,6))\n",
    "\n",
    "plt.scatter(TheOneFrame['MajorityVote'].values[ind==False]/(TheOneFrame['MajorityVote'].values[ind==False]+TheOneFrame['MinorityVote'].values[ind==False]),\n",
    "            TheOneFrame['MajorWavelet'].values[ind==False]-TheOneFrame['MinorWavelet'].values[ind==False],#,label='Wavelet',\n",
    "           alpha=0.1,c='b')\n",
    "\n",
    "# plt.scatter(TheOneFrame['MajorityVote'].values[ind==False]/(TheOneFrame['MajorityVote'].values[ind==False]+TheOneFrame['MinorityVote'].values[ind==False]),\n",
    "#             TheOneFrame['MajorCNN'].values[ind==False]-TheOneFrame['MinorCNN'].values[ind==False],#,label='Convolutional DNN',\n",
    "#            alpha=0.1,c='k')\n",
    "\n",
    "plt.plot(np.linspace(0.5,1.0,10),0.0*np.ones(10),'k--',alpha=0.25)\n",
    "\n",
    "plt.plot([0.545,0.645,0.745,0.845,0.945],y_wavelet_bins,c='b',zorder=999)\n",
    "plt.plot([0.555,0.655,0.755,0.855,0.955],y_CNN_bins,c='k',zorder=998)\n",
    "plt.plot([0.545,0.645,0.745,0.845,0.945],y_style_bins,c='g',zorder=997)\n",
    "plt.plot([0.555,0.655,0.755,0.855,0.955],y_transformer_bins,c='c',zorder=996)\n",
    "\n",
    "\n",
    "plt.errorbar([0.545,0.645,0.745,0.845,0.945],y_wavelet_bins,yerr=y_wavelet_bins_std,fmt='o', capsize=3,\n",
    "             label=r'Wavelet ($\\rho=0.38^{***}$)',c='b',zorder=999)\n",
    "plt.errorbar([0.555,0.655,0.755,0.855,0.955],y_CNN_bins,yerr=y_CNN_bins_std,fmt='o', capsize=3,\n",
    "             label=r'CNN ($\\rho=-0.21^{*}$)',c='k',zorder=998)\n",
    "plt.errorbar([0.545,0.645,0.745,0.845,0.945],y_style_bins,yerr=y_style_bins_std,fmt='o', capsize=3,\n",
    "             label=r'Style ($\\rho=0.17^{*}$)',c='g',zorder=997)\n",
    "plt.errorbar([0.555,0.655,0.755,0.855,0.955],y_transformer_bins,yerr=y_transformer_bins_std,fmt='o', capsize=3,\n",
    "             label=r'Trans. ($\\rho=0.01$)',c='c',zorder=996)\n",
    "\n",
    "\n",
    "# plt.scatter(TheOneFrame['MinorityVote'].values[ind==False]/(TheOneFrame['MajorityVote'].values[ind==False]+TheOneFrame['MinorityVote'].values[ind==False]),\n",
    "#             TheOneFrame['MinorCNN'].values[ind==False],label='Minority')\n",
    "\n",
    "plt.xticks([0.5,0.6,0.7,0.8,0.9,1.0],[50,60,70,80,90,100],fontsize=16)\n",
    "plt.yticks([-0.8,-0.4,0.0,0.4,0.8],fontsize=16)\n",
    "\n",
    "plt.xlabel(r'% Agreement among Human Annotators',fontsize=22,labelpad=8)\n",
    "plt.ylabel(r'$\\Delta$ Embedding Similarity',fontsize=22,labelpad=12)\n",
    "plt.legend(loc=3,fontsize=14.5,framealpha=1.0,ncol=2)\n",
    "\n",
    "plt.show()"
   ]
  }
 ],
 "metadata": {
  "kernelspec": {
   "display_name": "Python 3",
   "language": "python",
   "name": "python3"
  },
  "language_info": {
   "codemirror_mode": {
    "name": "ipython",
    "version": 3
   },
   "file_extension": ".py",
   "mimetype": "text/x-python",
   "name": "python",
   "nbconvert_exporter": "python",
   "pygments_lexer": "ipython3",
   "version": "3.7.3"
  }
 },
 "nbformat": 4,
 "nbformat_minor": 5
}
